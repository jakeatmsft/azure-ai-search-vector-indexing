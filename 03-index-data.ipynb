{
 "cells": [
  {
   "cell_type": "markdown",
   "id": "153d560d-a721-426e-9976-913d8bae17cf",
   "metadata": {},
   "source": [
    "# Index Data\n",
    "Purpose is to uplaod the data to the Azure AI Search Index\n",
    "This uses the PUSH API, however it is also very viable to use the Azure AI Search Indexer that points to the JSON files directly\n",
    "\n",
    "## Required for this step\n",
    "- Azure AI Search Service\n",
    "\n",
    "## Important\n",
    "- Ensure that Semantic Ranker is enabled in Azure AI Search service\n",
    "\n"
   ]
  },
  {
   "cell_type": "code",
   "execution_count": null,
   "id": "4c399b70-9d9b-4a12-8f76-437b669cc462",
   "metadata": {},
   "outputs": [],
   "source": [
    "# # Import required libraries  \n",
    "import os  \n",
    "import json\n",
    "from azure.core.credentials import AzureKeyCredential  \n",
    "from azure.search.documents import SearchClient  \n",
    "from azure.search.documents.indexes import SearchIndexClient, SearchIndexerClient  \n"
   ]
  },
  {
   "cell_type": "code",
   "execution_count": null,
   "id": "fed974b8-42bc-43fa-87ce-ecee61abb09c",
   "metadata": {},
   "outputs": [],
   "source": [
    "#Load the configuration details for the Cognitive Search Service and Azure OpenAI Instance\n",
    "#Credentials should be secured using a more secure method such as Azure KeyVault\n",
    "config = json.load(open(\"config.json\"))\n",
    "    \n",
    "# Azure AI Search Config\n",
    "search_service_name = config[\"search_service_name\"]\n",
    "search_service_url = \"https://{}.search.windows.net/\".format(search_service_name)\n",
    "search_admin_key = config[\"search_admin_key\"]\n",
    "index_name = config[\"search_index_name\"]\n",
    "index_schema_file = config[\"search_index_schema_file\"]\n",
    "search_api_version = config[\"search_api_version\"]\n",
    "search_headers = {  \n",
    "    'Content-Type': 'application/json',  \n",
    "    'api-key': search_admin_key  \n",
    "}  \n",
    "\n",
    "index_client = SearchIndexClient(\n",
    "        endpoint=search_service_url, credential=AzureKeyCredential(search_admin_key))\n",
    "search_client = SearchClient(endpoint=search_service_url, index_name=index_name, credential=AzureKeyCredential(search_admin_key))\n",
    "\n",
    "print ('Search Service Name:', search_service_name)\n",
    "print ('Index Name:', index_name)\n",
    "\n",
    "# Set a temp directory for downloading pdf's for processing\n",
    "data_root_dir = config[\"data_root_dir\"]\n",
    "json_dir = os.path.join(data_root_dir, \"json\")\n",
    "print ('JSON Dir:', json_dir)"
   ]
  },
  {
   "cell_type": "code",
   "execution_count": null,
   "id": "d6e49025-089a-4043-ac66-4e3f681b3c16",
   "metadata": {},
   "outputs": [],
   "source": [
    "# Get all files in dir\n",
    "def get_files_in_dir(in_dir):\n",
    "    return [os.path.join(dp, f) for dp, dn, filenames in os.walk(in_dir) for f in filenames]\n"
   ]
  },
  {
   "cell_type": "code",
   "execution_count": null,
   "id": "65da4589-f394-46cc-8a45-52288fbd876f",
   "metadata": {},
   "outputs": [],
   "source": [
    "json_docs = get_files_in_dir(json_dir)\n",
    "total_files = len(json_docs)\n",
    "print ('Total Files to upload:', total_files)"
   ]
  },
  {
   "cell_type": "code",
   "execution_count": null,
   "id": "77fd01d0-dec0-460a-b2fd-c26905dea414",
   "metadata": {},
   "outputs": [],
   "source": [
    "for json_doc in json_docs:\n",
    "    print (json_doc)\n",
    "    with open(json_doc, \"r\") as j_in:\n",
    "        documents = json.loads(j_in.read())\n",
    "\n",
    "    result = search_client.upload_documents(documents)  \n",
    "    print(f\"Uploaded {len(documents)} chunks\") "
   ]
  },
  {
   "cell_type": "code",
   "execution_count": null,
   "id": "6db5f572-74b7-4eed-af52-5e17cf6e2a81",
   "metadata": {},
   "outputs": [],
   "source": [
    "# documents[0]"
   ]
  },
  {
   "cell_type": "code",
   "execution_count": null,
   "id": "97eb9d49-e639-4912-b62d-f5b7a5726789",
   "metadata": {},
   "outputs": [],
   "source": []
  },
  {
   "cell_type": "code",
   "execution_count": null,
   "id": "a619162e-dd4a-41bd-a856-cadc1859209a",
   "metadata": {},
   "outputs": [],
   "source": []
  },
  {
   "cell_type": "code",
   "execution_count": null,
   "id": "eaf3c90f-5e41-42f0-9e2d-d1fae799dd6e",
   "metadata": {},
   "outputs": [],
   "source": []
  },
  {
   "cell_type": "code",
   "execution_count": null,
   "id": "f332ff3e-47ee-4f9b-ad2a-0815076e3220",
   "metadata": {},
   "outputs": [],
   "source": [
    "# Load the Index Scheam - Using REST for this to leverage most recent vector capabilities\n",
    "with open(index_schema_file, \"r\") as f_in:\n",
    "    index_schema = json.loads(f_in.read())\n",
    "    index_schema['name'] = index_name"
   ]
  },
  {
   "cell_type": "code",
   "execution_count": null,
   "id": "9ffaf92b-ad12-4f11-b5b8-99c4d21f9a17",
   "metadata": {},
   "outputs": [],
   "source": [
    "# Making the POST request to create the index  \n",
    "delete_url = f\"{search_service_url}/indexes/{index_name}?api-version={search_api_version}\"  \n",
    "response = requests.delete(delete_url, headers=search_headers)  \n",
    "if response.status_code == 204:  \n",
    "    print(f\"Index {index_name} deleted successfully.\")  \n",
    "    # print(json.dumps(response.json(), indent=2))  \n",
    "else:  \n",
    "    print(\"Error creating index:\")  \n",
    "    print(response.json())  \n",
    "\n",
    "# The endpoint URL for creating the index  \n",
    "create_index_url = f\"{search_service_url}/indexes?api-version={search_api_version}\"  \n",
    "response = requests.post(create_index_url, headers=search_headers, json=index_schema)  \n",
    "  \n",
    "# Check the response  \n",
    "if response.status_code == 201:  \n",
    "    print(f\"Index {index_name} created successfully.\")  \n",
    "    # print(json.dumps(response.json(), indent=2))  \n",
    "else:  \n",
    "    print(f\"Error creating index {index_name} :\")  \n",
    "    print(response.json())  \n",
    "  \n"
   ]
  },
  {
   "cell_type": "code",
   "execution_count": null,
   "id": "5eb64465-60c2-4b0f-9d46-79ab925af53b",
   "metadata": {},
   "outputs": [],
   "source": []
  }
 ],
 "metadata": {
  "kernelspec": {
   "display_name": "py39_default",
   "language": "python",
   "name": "py39_default"
  },
  "language_info": {
   "codemirror_mode": {
    "name": "ipython",
    "version": 3
   },
   "file_extension": ".py",
   "mimetype": "text/x-python",
   "name": "python",
   "nbconvert_exporter": "python",
   "pygments_lexer": "ipython3",
   "version": "3.11.6"
  }
 },
 "nbformat": 4,
 "nbformat_minor": 5
}
