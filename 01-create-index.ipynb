{
 "cells": [
  {
   "cell_type": "markdown",
   "id": "153d560d-a721-426e-9976-913d8bae17cf",
   "metadata": {},
   "source": [
    "# Create Index\n",
    "Purpose is to create a base Azure AI Search index to host the content\n",
    "\n",
    "## Required for this step\n",
    "- Azure AI Search Service\n",
    "\n",
    "## Important\n",
    "- Ensure that Semantic Ranker is enabled in Azure AI Search service\n",
    "- If you choose to use an Embeddings Model other than ADA 002, make sure to check the dimensions and update the schema.json file accordlingly\n"
   ]
  },
  {
   "cell_type": "code",
   "execution_count": 2,
   "id": "4c399b70-9d9b-4a12-8f76-437b669cc462",
   "metadata": {},
   "outputs": [],
   "source": [
    "# # Import required libraries  \n",
    "import os  \n",
    "import requests\n",
    "import json\n"
   ]
  },
  {
   "cell_type": "code",
   "execution_count": 17,
   "id": "fed974b8-42bc-43fa-87ce-ecee61abb09c",
   "metadata": {},
   "outputs": [],
   "source": [
    "#Load the configuration details for the Cognitive Search Service and Azure OpenAI Instance\n",
    "#Credentials should be secured using a more secure method such as Azure KeyVault\n",
    "config = json.load(open(\"config.json\"))\n",
    "    \n",
    "# Azure AI Search Config\n",
    "search_service_name = config[\"search_service_name\"]\n",
    "search_service_url = \"https://{}.search.windows.net/\".format(search_service_name)\n",
    "search_admin_key = config[\"search_admin_key\"]\n",
    "index_name = config[\"search_index_name\"]\n",
    "index_schema_file = config[\"search_index_schema_file\"]\n",
    "search_api_version = config[\"search_api_version\"]\n",
    "search_headers = {  \n",
    "    'Content-Type': 'application/json',  \n",
    "    'api-key': search_admin_key  \n",
    "}  \n",
    "\n",
    "#Azure OpenAI\n",
    "azure_openai_api_base = config[\"openai_api_base\"]\n",
    "azure_openai_api_key = config[\"openai_api_key\"]\n",
    "azure_openai_embeddings_model = config[\"openai_embedding_model\"]\n",
    "\n",
    "print ('Search Service Name:', search_service_name)\n",
    "print ('Index Name:', index_name)\n",
    "print ('Azure OpenAI Base URL:', azure_openai_api_base)\n",
    "print ('Azure OpenAI Embeddings Model:', azure_openai_embeddings_model)\n",
    "\n"
   ]
  },
  {
   "cell_type": "code",
   "execution_count": 14,
   "id": "f332ff3e-47ee-4f9b-ad2a-0815076e3220",
   "metadata": {},
   "outputs": [],
   "source": [
    "# Load the Index Scheam - Using REST for this to leverage most recent vector capabilities\n",
    "# NOTE: If you choose to use an Embeddings Model other than ADA 002, make sure to check the dimensions and update the \n",
    "# schema.json file accordlingly\n",
    "\n",
    "with open(index_schema_file, \"r\") as f_in:\n",
    "    index_schema = json.loads(f_in.read())\n",
    "    index_schema['name'] = index_name\n",
    "    index_schema['vectorSearch']['vectorizers'][0]['azureOpenAIParameters']['resourceUri'] = azure_openai_api_base\n",
    "    index_schema['vectorSearch']['vectorizers'][0]['azureOpenAIParameters']['deploymentId'] = azure_openai_embeddings_model\n",
    "    index_schema['vectorSearch']['vectorizers'][0]['azureOpenAIParameters']['apiKey'] = api_key\n"
   ]
  },
  {
   "cell_type": "code",
   "execution_count": 16,
   "id": "9ffaf92b-ad12-4f11-b5b8-99c4d21f9a17",
   "metadata": {},
   "outputs": [
    {
     "name": "stdout",
     "output_type": "stream",
     "text": [
      "Index financial-docs deleted successfully.\n",
      "Index financial-docs created successfully.\n"
     ]
    }
   ],
   "source": [
    "# Making the POST request to create the index  \n",
    "delete_url = f\"{search_service_url}/indexes/{index_name}?api-version={search_api_version}\"  \n",
    "response = requests.delete(delete_url, headers=search_headers)  \n",
    "if response.status_code == 204:  \n",
    "    print(f\"Index {index_name} deleted successfully.\")  \n",
    "    # print(json.dumps(response.json(), indent=2))  \n",
    "else:  \n",
    "    print(\"Error creating index:\")  \n",
    "    print(response.json())  \n",
    "\n",
    "# The endpoint URL for creating the index  \n",
    "create_index_url = f\"{search_service_url}/indexes?api-version={search_api_version}\"  \n",
    "response = requests.post(create_index_url, headers=search_headers, json=index_schema)  \n",
    "  \n",
    "# Check the response  \n",
    "if response.status_code == 201:  \n",
    "    print(f\"Index {index_name} created successfully.\")  \n",
    "    # print(json.dumps(response.json(), indent=2))  \n",
    "else:  \n",
    "    print(f\"Error creating index {index_name} :\")  \n",
    "    print(response.json())  \n",
    "  \n"
   ]
  },
  {
   "cell_type": "code",
   "execution_count": null,
   "id": "5eb64465-60c2-4b0f-9d46-79ab925af53b",
   "metadata": {},
   "outputs": [],
   "source": []
  }
 ],
 "metadata": {
  "kernelspec": {
   "display_name": "py39_default",
   "language": "python",
   "name": "py39_default"
  },
  "language_info": {
   "codemirror_mode": {
    "name": "ipython",
    "version": 3
   },
   "file_extension": ".py",
   "mimetype": "text/x-python",
   "name": "python",
   "nbconvert_exporter": "python",
   "pygments_lexer": "ipython3",
   "version": "3.11.6"
  }
 },
 "nbformat": 4,
 "nbformat_minor": 5
}
