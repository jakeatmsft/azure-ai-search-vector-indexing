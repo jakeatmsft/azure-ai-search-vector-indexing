{
 "cells": [
  {
   "cell_type": "markdown",
   "id": "153d560d-a721-426e-9976-913d8bae17cf",
   "metadata": {},
   "source": [
    "# Test Query\n",
    "Purpose is to perform a query against the index created.\n",
    "This is only meant to test the retrieval portion of the RAG application.\n",
    "\n",
    "## Required for this step\n",
    "- Azure AI Search Service\n",
    "\n"
   ]
  },
  {
   "cell_type": "code",
   "execution_count": 1,
   "id": "4c399b70-9d9b-4a12-8f76-437b669cc462",
   "metadata": {},
   "outputs": [],
   "source": [
    "# # Import required libraries  \n",
    "import os  \n",
    "import json\n",
    "from azure.core.credentials import AzureKeyCredential  \n",
    "from azure.search.documents import SearchClient  \n",
    "from azure.search.documents.indexes import SearchIndexClient, SearchIndexerClient  \n",
    "from azure.search.documents.models import (\n",
    "    QueryType,\n",
    "    VectorizedQuery,\n",
    ")\n",
    "from openai import AzureOpenAI\n",
    "from tenacity import retry, wait_random_exponential, stop_after_attempt \n"
   ]
  },
  {
   "cell_type": "code",
   "execution_count": 6,
   "id": "fed974b8-42bc-43fa-87ce-ecee61abb09c",
   "metadata": {},
   "outputs": [],
   "source": [
    "#Load the configuration details for the Cognitive Search Service and Azure OpenAI Instance\n",
    "#Credentials should be secured using a more secure method such as Azure KeyVault\n",
    "config = json.load(open(\"config.json\"))\n",
    "    \n",
    "# Azure AI Search Config\n",
    "search_service_name = config[\"search_service_name\"]\n",
    "search_service_url = \"https://{}.search.windows.net/\".format(search_service_name)\n",
    "search_admin_key = config[\"search_admin_key\"]\n",
    "index_name = config[\"search_index_name\"]\n",
    "index_schema_file = config[\"search_index_schema_file\"]\n",
    "search_api_version = config[\"search_api_version\"]\n",
    "search_headers = {  \n",
    "    'Content-Type': 'application/json',  \n",
    "    'api-key': search_admin_key  \n",
    "}  \n",
    "\n",
    "index_client = SearchIndexClient(\n",
    "        endpoint=search_service_url, credential=AzureKeyCredential(search_admin_key))\n",
    "search_client = SearchClient(endpoint=search_service_url, index_name=index_name, credential=AzureKeyCredential(search_admin_key))\n",
    "\n",
    "print ('Search Service Name:', search_service_name)\n",
    "print ('Index Name:', index_name)\n",
    "\n",
    "#Azure OpenAI\n",
    "api_base = config[\"openai_api_base\"]\n",
    "api_key = config[\"openai_api_key\"]\n",
    "openai_api_version = config[\"openai_api_version\"]\n",
    "embedding_model = config[\"openai_embedding_model\"]\n",
    "\n",
    "# gets the API Key from environment variable AZURE_OPENAI_API_KEY\n",
    "client = AzureOpenAI(\n",
    "    api_version=openai_api_version,\n",
    "    azure_endpoint=api_base,\n",
    "    api_key=api_key\n",
    ")\n"
   ]
  },
  {
   "cell_type": "code",
   "execution_count": 3,
   "id": "5eb64465-60c2-4b0f-9d46-79ab925af53b",
   "metadata": {},
   "outputs": [],
   "source": [
    "# Function to generate embeddings for title and content fields, also used for query embeddings\n",
    "@retry(wait=wait_random_exponential(min=1, max=20), stop=stop_after_attempt(6))\n",
    "def generate_embeddings(text):\n",
    "    response = client.embeddings.create(\n",
    "        input=text,\n",
    "        model=model\n",
    "    )\n",
    "    return json.loads(response.model_dump_json())[\"data\"][0]['embedding']\n",
    "\n",
    "# generate_embeddings('test')"
   ]
  },
  {
   "cell_type": "code",
   "execution_count": 4,
   "id": "b4146eb0-2053-4d89-baae-b86507f1fdc7",
   "metadata": {},
   "outputs": [
    {
     "name": "stdout",
     "output_type": "stream",
     "text": [
      "Title: \"Corporate Share Repurchase Programs and Outcomes from 2016 to 2022\"\n",
      "Score: 0.03333333507180214\n",
      "Content: On September 20, 2016, our Board of Directors approved a share repurchase program authorizing up to $40.0 billion in share repurchases. This share repurchase program commenced in December 2016 and was completed in February 2020.  \n",
      "On September 18, 2019, our Board of Directors approved a share repurchase program authorizing up to $40.0 billion in share repurchases. This share repurchase program commenced in February 2020 and was completed in November 2021.  \n",
      "On September 14, 2021, our Board of Directors approved a share repurchase program authorizing up to $60.0 billion in share repurchases. This share repurchase program commenced in November 2021, following completion of the program approved on September 18, 2019, has no expiration date, and may be terminated at any time. As of June 30, 2022, $40.7 billion remained of this $60.0 billion share repurchase program.  \n",
      "<!-- PageNumber=\"87\" -->  \n",
      "<!-- PageHeader=\"PART II Item 8\" -->  \n",
      "We repurchased the following shares of common stock under the share repurchase programs:  \n",
      "| (In millions) | Shares | Amount | Shares | Amount | Shares | Amount |\n",
      "| - | - | - | - | - | - | - |\n",
      "| Year Ended June 30, | | 2022 | | 2021 | | 2020 |\n",
      "| First Quarter || 21 $  6,200 || 25 $  5,270 || 29 $  4,000 |\n",
      "| Second Quarter | 20 | 6,233 | 27 | 5,750 | 32 | 4,600 |\n",
      "| Third Quarter | 26 | 7,800 | 25 | 5,750 | 37 | 6,000 |\n",
      "| Fourth Quarter | 28 | 7,800 | 24 | 6,200 | 28 | 5,088 |\n",
      "| Total | 95 | $ 28,033 | 101 | $ 22,970 | 126 | $ 19,688 |  \n",
      "All repurchases were made using cash resources. Shares repurchased during the fourth and third quarters of fiscal year 2022 were under the share repurchase program approved on September 14, 2021. Shares repurchased during the second quarter of fiscal year 2022 were under the share repurchase programs approved on both September 14, 2021 and September 18, 2019. Shares repurchased during the first quarter of fiscal year 2022, fiscal year 2021, and the fourth quarter of fiscal year 2020 were under the share repurchase program\n",
      "==============================\n",
      "\n",
      "Title: \"Timeline and Details of Company's Share Repurchase Programs from 2016 to 2022\"\n",
      "Score: 0.032786883413791656\n",
      "Content:  were under the share repurchase programs approved on both September 14, 2021 and September 18, 2019. Shares repurchased during the first quarter of fiscal year 2022, fiscal year 2021, and the fourth quarter of fiscal year 2020 were under the share repurchase program approved on September 18, 2019. Shares repurchased during the third quarter of fiscal year 2020 were under the share repurchase programs approved on both September 20, 2016 and September 18, 2019. All other shares repurchased were under the share repurchase program approved on September 20, 2016. The above table excludes shares repurchased to settle employee tax withholding related to the vesting of stock awards of $4.7 billion, $4.4 billion, and $3.3 billion for fiscal years 2022, 2021, and 2020, respectively.\n",
      "==============================\n",
      "\n",
      "Title: \"Company's Stock Repurchase Summary: 2022 vs 2021 and Remaining Budget\"\n",
      "Score: 0.032258063554763794\n",
      "Content: During fiscal years 2022 and 2021, we repurchased 95 million shares and 101 million shares of our common stock for $28.0 billion and $23.0 billion, respectively, through our share repurchase programs. All repurchases were made using cash resources. As of June 30, 2022, $40.7 billion remained of our $60 billion share repurchase program. Refer to Note 16 - Stockholders' Equity of the Notes to Financial Statements (Part II, Item 8 of this Form 10-K) for further discussion.\n",
      "==============================\n",
      "\n"
     ]
    }
   ],
   "source": [
    "# Pure Hubrid Search\n",
    "query = \"how many shares were repurchased in the second quarter of 2022 by Microsoft?\"  \n",
    "  \n",
    "vector_query = VectorizedQuery(vector=generate_embeddings(query), k_nearest_neighbors=3, fields=\"vector\")\n",
    "  \n",
    "results = search_client.search(  \n",
    "    search_text=query,  \n",
    "    vector_queries= [vector_query],\n",
    "    select=[\"title\", \"chunk\"],\n",
    "    top=3\n",
    ")  \n",
    "  \n",
    "for result in results:  \n",
    "    print(f\"Title: {result['title']}\")  \n",
    "    print(f\"Score: {result['@search.score']}\")  \n",
    "    print(f\"Content: {result['chunk']}\")  \n",
    "    print(\"==============================\\n\")"
   ]
  },
  {
   "cell_type": "code",
   "execution_count": 5,
   "id": "c868f0bb-b62f-458c-ad31-3f6691b028e8",
   "metadata": {},
   "outputs": [
    {
     "name": "stdout",
     "output_type": "stream",
     "text": [
      "Title: \"Corporate Share Repurchase Programs and Outcomes from 2016 to 2022\"\n",
      "Score: 0.03333333507180214\n",
      "Content: On September 20, 2016, our Board of Directors approved a share repurchase program authorizing up to $40.0 billion in share repurchases. This share repurchase program commenced in December 2016 and was completed in February 2020.  \n",
      "On September 18, 2019, our Board of Directors approved a share repurchase program authorizing up to $40.0 billion in share repurchases. This share repurchase program commenced in February 2020 and was completed in November 2021.  \n",
      "On September 14, 2021, our Board of Directors approved a share repurchase program authorizing up to $60.0 billion in share repurchases. This share repurchase program commenced in November 2021, following completion of the program approved on September 18, 2019, has no expiration date, and may be terminated at any time. As of June 30, 2022, $40.7 billion remained of this $60.0 billion share repurchase program.  \n",
      "<!-- PageNumber=\"87\" -->  \n",
      "<!-- PageHeader=\"PART II Item 8\" -->  \n",
      "We repurchased the following shares of common stock under the share repurchase programs:  \n",
      "| (In millions) | Shares | Amount | Shares | Amount | Shares | Amount |\n",
      "| - | - | - | - | - | - | - |\n",
      "| Year Ended June 30, | | 2022 | | 2021 | | 2020 |\n",
      "| First Quarter || 21 $  6,200 || 25 $  5,270 || 29 $  4,000 |\n",
      "| Second Quarter | 20 | 6,233 | 27 | 5,750 | 32 | 4,600 |\n",
      "| Third Quarter | 26 | 7,800 | 25 | 5,750 | 37 | 6,000 |\n",
      "| Fourth Quarter | 28 | 7,800 | 24 | 6,200 | 28 | 5,088 |\n",
      "| Total | 95 | $ 28,033 | 101 | $ 22,970 | 126 | $ 19,688 |  \n",
      "All repurchases were made using cash resources. Shares repurchased during the fourth and third quarters of fiscal year 2022 were under the share repurchase program approved on September 14, 2021. Shares repurchased during the second quarter of fiscal year 2022 were under the share repurchase programs approved on both September 14, 2021 and September 18, 2019. Shares repurchased during the first quarter of fiscal year 2022, fiscal year 2021, and the fourth quarter of fiscal year 2020 were under the share repurchase program\n",
      "==============================\n",
      "\n",
      "Title: \"Company's Stock Repurchase Summary: 2022 vs 2021 and Remaining Budget\"\n",
      "Score: 0.032258063554763794\n",
      "Content: During fiscal years 2022 and 2021, we repurchased 95 million shares and 101 million shares of our common stock for $28.0 billion and $23.0 billion, respectively, through our share repurchase programs. All repurchases were made using cash resources. As of June 30, 2022, $40.7 billion remained of our $60 billion share repurchase program. Refer to Note 16 - Stockholders' Equity of the Notes to Financial Statements (Part II, Item 8 of this Form 10-K) for further discussion.\n",
      "==============================\n",
      "\n",
      "Title: \"Timeline and Details of Company's Share Repurchase Programs from 2016 to 2022\"\n",
      "Score: 0.032786883413791656\n",
      "Content:  were under the share repurchase programs approved on both September 14, 2021 and September 18, 2019. Shares repurchased during the first quarter of fiscal year 2022, fiscal year 2021, and the fourth quarter of fiscal year 2020 were under the share repurchase program approved on September 18, 2019. Shares repurchased during the third quarter of fiscal year 2020 were under the share repurchase programs approved on both September 20, 2016 and September 18, 2019. All other shares repurchased were under the share repurchase program approved on September 20, 2016. The above table excludes shares repurchased to settle employee tax withholding related to the vesting of stock awards of $4.7 billion, $4.4 billion, and $3.3 billion for fiscal years 2022, 2021, and 2020, respectively.\n",
      "==============================\n",
      "\n"
     ]
    }
   ],
   "source": [
    "# Pure Hybrd+Semantic Search\n",
    "query = \"how many shares were repurchased in the second quarter of 2022 by Microsoft?\"  \n",
    "  \n",
    "vector_query = VectorizedQuery(vector=generate_embeddings(query), k_nearest_neighbors=3, fields=\"vector\")\n",
    "  \n",
    "results = search_client.search(  \n",
    "    search_text=query,  \n",
    "    vector_queries= [vector_query],\n",
    "    select=[\"title\", \"chunk\"],\n",
    "    query_type=QueryType.SEMANTIC, semantic_configuration_name='vector-semantic-configuration',\n",
    "    top=3\n",
    ")  \n",
    "  \n",
    "for result in results:  \n",
    "    print(f\"Title: {result['title']}\")  \n",
    "    print(f\"Score: {result['@search.score']}\")  \n",
    "    print(f\"Content: {result['chunk']}\")  \n",
    "    print(\"==============================\\n\")"
   ]
  },
  {
   "cell_type": "code",
   "execution_count": null,
   "id": "e66e788b-2251-420c-a0e3-f6d014460fcb",
   "metadata": {},
   "outputs": [],
   "source": []
  }
 ],
 "metadata": {
  "kernelspec": {
   "display_name": "py39_default",
   "language": "python",
   "name": "py39_default"
  },
  "language_info": {
   "codemirror_mode": {
    "name": "ipython",
    "version": 3
   },
   "file_extension": ".py",
   "mimetype": "text/x-python",
   "name": "python",
   "nbconvert_exporter": "python",
   "pygments_lexer": "ipython3",
   "version": "3.11.6"
  }
 },
 "nbformat": 4,
 "nbformat_minor": 5
}
